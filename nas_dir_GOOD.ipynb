{
 "cells": [
  {
   "cell_type": "code",
   "execution_count": 1,
   "id": "72af0b53-d5ad-47b8-ab9a-123e2cbe2447",
   "metadata": {},
   "outputs": [],
   "source": [
    "import warnings\n",
    "import time as tm\n",
    "import os\n",
    "import datetime\n",
    "from collections import namedtuple\n",
    "import os.path\n",
    "from collections import namedtuple\n",
    "from os.path import normpath, realpath\n",
    "from os.path import join as pathjoin\n",
    "from datetime import datetime\n",
    "from time import time\n",
    "import csv\n",
    "import pandas as pd"
   ]
  },
  {
   "cell_type": "code",
   "execution_count": 2,
   "id": "22574dda-6517-4761-ae2a-15d80d38aa2c",
   "metadata": {},
   "outputs": [],
   "source": [
    "rootdir=['/mnt/docker','/mnt/lesson','/mnt/picture','/mnt/private','/mnt/software','/mnt/usbshare1-2','/mnt/video']\n",
    "outfile=\"/home/hadoopusr/sambashare/dir.csv\"\n",
    "warnings.filterwarnings(\"ignore\")"
   ]
  },
  {
   "cell_type": "code",
   "execution_count": 3,
   "id": "0d9f479d-ef69-4c82-9b3e-48d54dffa8e1",
   "metadata": {},
   "outputs": [],
   "source": [
    "os.remove(outfile)\n",
    "df = pd.DataFrame(list())\n",
    "df.to_csv(outfile)"
   ]
  },
  {
   "cell_type": "code",
   "execution_count": 4,
   "id": "9023094f-6c2a-480b-991e-fb2ce633aa7e",
   "metadata": {},
   "outputs": [],
   "source": [
    "_wrap_entry = namedtuple( 'DirEntryWrapper', 'name path islink size' )\n",
    "def scantree( rootdir, follow_links=False, reldir='' ):\n",
    "    visited = set()\n",
    "    rootdir = normpath(rootdir)\n",
    "    with os.scandir(rootdir) as it:\n",
    "        for entry in it:\n",
    "            if entry.is_dir():\n",
    "                if not entry.is_symlink() or follow_links:\n",
    "                    absdir = realpath(entry.path)\n",
    "                    if absdir in visited: \n",
    "                        continue \n",
    "                    else: \n",
    "                        visited.add(absdir)\n",
    "                    yield from scantree( entry.path, follow_links, pathjoin(reldir,entry.name) )\n",
    "            else:\n",
    "                yield _wrap_entry( \n",
    "                    pathjoin(reldir,entry.name), \n",
    "                    entry.path, \n",
    "                    entry.is_symlink(),\n",
    "                    entry.stat().st_size )"
   ]
  },
  {
   "cell_type": "code",
   "execution_count": 5,
   "id": "6f9ba8d1-eeb8-4e36-a73e-13b499aa195b",
   "metadata": {},
   "outputs": [],
   "source": [
    "def creation_date(filename):\n",
    "    t = os.path.getmtime(filename)\n",
    "    return datetime.fromtimestamp(t)"
   ]
  },
  {
   "cell_type": "code",
   "execution_count": 6,
   "id": "3402693c-f772-4e95-9a4e-dcd62b4c7b00",
   "metadata": {},
   "outputs": [
    {
     "name": "stdout",
     "output_type": "stream",
     "text": [
      "Whole loading takes --- 1457.4541935920715 seconds ---\n"
     ]
    }
   ],
   "source": [
    "start_time = tm.time()\n",
    "# df2 = pd.DataFrame([[2,3,4]])\n",
    "# pd.concat([df2, df])\n",
    "all_results = []  # <-- list for all results\n",
    "for path in rootdir:\n",
    "    for entry in scantree(path, follow_links=False):\n",
    "        fname=entry.name\n",
    "        filepath = entry.path \n",
    "        #crtdt=datetime.fromtimestamp(creation_date(filepath)).strftime(\"%d/%m/%Y, %H:%M:%S\")\n",
    "        crtdt=creation_date(filepath).strftime(\"%d/%m/%Y--%H:%M:%S\")\n",
    "        filesize = str(round(entry.size/(1024*1024)))\n",
    "        type=entry.name.split(\".\")[-1]\n",
    "        #print(type(c1))\n",
    "        #print(crtdt)\n",
    "        #filesize = str(round(entry.size/(1024*1024)))\n",
    "        #print(filepath+\":\"+filesize+\":\"crtdt)\n",
    "        #print(fname+\":\"+filepath+\":\"+filesize+\":\"+crtdt+\":\"+type)\n",
    "        #df2 = pd.DataFrame([[fname,filepath,crtdt,filesize,type]])\n",
    "        #pd.concat([df, df2])\n",
    "        \n",
    "        new_data = fname+','+filepath+','+crtdt+','+filesize+','+type\n",
    "        #new_line='\\n'.join(new_data)\n",
    "        #all_results.append(new_data)  # <-- keep result \n",
    "        all_results.append(new_data)  # <-- keep result \n",
    "        # with open('/home/hadoopusr/sambashare/dir.csv', 'a', newline='') as file:\n",
    "        #     writer = csv.writer(file)\n",
    "        #     writer.writerows(new_data)\n",
    "        #print(type(new_data))\n",
    "        #df_new = spark.createDataFrame(new_data,['name','dir','crt_time','fsize','ftype'])\n",
    "        #df_new.show()\n",
    "        #df_new.write.insertInto('dc.nas', overwrite=False)\n",
    "        #df.append({fname,filepath,crtdt,filesize,type},ignore_index=True)\n",
    "    \n",
    "    #df.head(5)\n",
    "    \n",
    "    # # r=root, d=directories, f = files\n",
    "    # for r, d, f in os.walk(thisdir):\n",
    "    #     for file in f:\n",
    "    #         if file.endswith(\".sh\"):\n",
    "    #             path=os.path.join(r, file)\n",
    "    #             size = str(os.stat(path).st_size)\n",
    "    #             print(path+\"Size:\"+size)\n",
    "    #     # for dlist in d:\n",
    "    #     #     print(dlist)\n",
    "    #write_file = \"/home/hadoopusr/sambashare/dir.csv\"\n",
    "with open(outfile, \"wt\", encoding=\"utf-8\") as output:\n",
    "    for line in all_results:\n",
    "        output.write(line + '\\n')\n",
    "print(\"Whole loading takes --- %s seconds ---\" % (tm.time() - start_time))"
   ]
  },
  {
   "cell_type": "code",
   "execution_count": null,
   "id": "3278659e-bde4-4546-9fea-cf5d604c1293",
   "metadata": {},
   "outputs": [],
   "source": []
  }
 ],
 "metadata": {
  "kernelspec": {
   "display_name": "Python 3 (ipykernel)",
   "language": "python",
   "name": "python3"
  },
  "language_info": {
   "codemirror_mode": {
    "name": "ipython",
    "version": 3
   },
   "file_extension": ".py",
   "mimetype": "text/x-python",
   "name": "python",
   "nbconvert_exporter": "python",
   "pygments_lexer": "ipython3",
   "version": "3.10.12"
  }
 },
 "nbformat": 4,
 "nbformat_minor": 5
}
